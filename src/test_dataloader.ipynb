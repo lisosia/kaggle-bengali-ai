{
 "cells": [
  {
   "cell_type": "code",
   "execution_count": 1,
   "metadata": {},
   "outputs": [
    {
     "name": "stdout",
     "output_type": "stream",
     "text": [
      "config:  {'submission': False, 'batch_size': 128, 'device': 'cuda:0', 'out': '.', 'image_size': [128, 128], 'arch': 'pretrained', 'model_name': 'se_resnext50_32x4d', 'use_class_weight': False, 'datadir': PosixPath('../input/bengaliai-cv19'), 'featherdir': PosixPath('../input/bengaliaicv19feather'), 'pngdir': PosixPath('../input/bengaliai-cv19-png'), 'outdir': '../run/031_128basic.yml', 'n_epoch': 120, 'num_workers': 4, 'num_classes': [168, 11, 7], 'fold': 0, 'scheduler': 'Adam', 'lr': 1e-05, 'aug_cutmix_p': 0.4, 'aug_cutmix_alpha': 0.8, 'aug_mixup_p': 0.4, 'crop_pad_size': 0, 'aug_scale': [-0.05, 0.05], 'aug_rot': 7, 'aug_shear': 10, 'aug_morph': 0.3}\n"
     ]
    }
   ],
   "source": [
    "import config\n",
    "C = config.get_config('./config/031_128basic.yml')"
   ]
  },
  {
   "cell_type": "code",
   "execution_count": 2,
   "metadata": {},
   "outputs": [
    {
     "name": "stdout",
     "output_type": "stream",
     "text": [
      "MORPH ERODE MAX SIZE =  4\n",
      "MORPH DILATE MAX SIZE =  4\n"
     ]
    }
   ],
   "source": [
    "from dataset import *\n",
    "from loss import *"
   ]
  },
  {
   "cell_type": "code",
   "execution_count": 3,
   "metadata": {},
   "outputs": [
    {
     "name": "stdout",
     "output_type": "stream",
     "text": [
      "(200840,)\n",
      "(200840, 3)\n",
      "  image_id  fold\n",
      "0  Train_0     3\n",
      "1  Train_1     2\n",
      "2  Train_2     4\n",
      "3  Train_3     2\n",
      "4  Train_4     1\n",
      "pre-split fold loaded, valid_indices:(array([     9,     12,     20, ..., 200830, 200834, 200835]),)\n",
      "train_dataset 160672 valid_dataset 40168\n"
     ]
    }
   ],
   "source": [
    "t, v = get_trainval_dataset_png()"
   ]
  },
  {
   "cell_type": "code",
   "execution_count": null,
   "metadata": {},
   "outputs": [],
   "source": []
  },
  {
   "cell_type": "code",
   "execution_count": 76,
   "metadata": {},
   "outputs": [
    {
     "name": "stdout",
     "output_type": "stream",
     "text": [
      "152\n",
      "7\n",
      "0\n"
     ]
    },
    {
     "data": {
      "image/png": "[encoded data removed]",
      "text/plain": [
       "<Figure size 432x288 with 1 Axes>"
      ]
     },
     "metadata": {
      "needs_background": "light"
     },
     "output_type": "display_data"
    }
   ],
   "source": [
    "im, la = t[143]\n",
    "#print( im.shape )\n",
    "#print( la.shape )\n",
    "print( la[0] )\n",
    "print( la[1] )\n",
    "print( la[2] )\n",
    "\n",
    "import matplotlib.pyplot as plt\n",
    "plt.imshow(im[0])\n",
    "plt.show()"
   ]
  },
  {
   "cell_type": "code",
   "execution_count": null,
   "metadata": {},
   "outputs": [],
   "source": [
    "im, la = v[7]\n",
    "print( la[0] )\n",
    "print( la[1] )\n",
    "print( la[2] )\n",
    "\n",
    "import matplotlib.pyplot as plt\n",
    "plt.imshow(im[0])\n",
    "plt.show()"
   ]
  },
  {
   "cell_type": "code",
   "execution_count": null,
   "metadata": {},
   "outputs": [],
   "source": [
    "t.image_ids[:5]"
   ]
  },
  {
   "cell_type": "code",
   "execution_count": null,
   "metadata": {},
   "outputs": [],
   "source": [
    "v.image_ids[:5]"
   ]
  },
  {
   "cell_type": "markdown",
   "metadata": {},
   "source": [
    "# GridMask"
   ]
  },
  {
   "cell_type": "code",
   "execution_count": null,
   "metadata": {},
   "outputs": [],
   "source": [
    "from torch.utils.data.dataloader import DataLoader\n",
    "dl = DataLoader(t, batch_size=1, shuffle=True)"
   ]
  },
  {
   "cell_type": "code",
   "execution_count": null,
   "metadata": {},
   "outputs": [],
   "source": [
    "from trans import GridMask\n",
    "gm = GridMask(C.image_size[0] * 0.1, C.image_size[0] * 0.4, ratio=0.6, rotate=360, mode=1)\n",
    "\n",
    "i = 0\n",
    "for x, y in dl:\n",
    "    x_aug = gm(x)\n",
    "    \n",
    "    plt.figure(figsize=(7,7))\n",
    "    plt.subplot(1,2,1)\n",
    "    plt.imshow(x[0][0])\n",
    "    plt.subplot(1,2,2)\n",
    "    plt.imshow(x_aug[0][0])\n",
    "    plt.title(\"\")\n",
    "    plt.show()\n",
    "    \n",
    "    i += 1\n",
    "    if i > 10 : break"
   ]
  },
  {
   "cell_type": "markdown",
   "metadata": {},
   "source": [
    "### mixup"
   ]
  },
  {
   "cell_type": "code",
   "execution_count": null,
   "metadata": {},
   "outputs": [],
   "source": [
    "from torch.utils.data.dataloader import DataLoader\n",
    "dl = DataLoader(t, batch_size=4, shuffle=True)\n"
   ]
  },
  {
   "cell_type": "code",
   "execution_count": null,
   "metadata": {},
   "outputs": [],
   "source": []
  },
  {
   "cell_type": "code",
   "execution_count": null,
   "metadata": {},
   "outputs": [],
   "source": [
    "i = 0\n",
    "for x, y in dl:\n",
    "    #print(y[0].shape)\n",
    "    \n",
    "    ## [B,3] -> [3, B]\n",
    "    mix_x, mix_y1, mix_y2, mix_y3 = mixup_multi_targets(x, y[:, 0], y[:, 1], y[:, 2])\n",
    "    #print(mix_x.shape)\n",
    "    \n",
    "    l1 = mix_y1[0]\n",
    "    l2 = mix_y2[1]\n",
    "    l3 = mix_y3[2]\n",
    "    #print(l1.shape)\n",
    "    #print(l2.shape)\n",
    "    #print(l3.shape)\n",
    "    #print(l1)\n",
    "    \n",
    "    plt.figure(figsize=(7,7))\n",
    "    plt.subplot(1,2,1)\n",
    "    plt.imshow(x[0][0])\n",
    "    plt.subplot(1,2,2)\n",
    "    plt.imshow(mix_x[0][0])\n",
    "    plt.title(\"\")\n",
    "    plt.show()\n",
    "    \n",
    "    i += 1\n",
    "    if i >= 2 : break"
   ]
  },
  {
   "cell_type": "code",
   "execution_count": null,
   "metadata": {},
   "outputs": [],
   "source": [
    "BS = 2\n",
    "C = 3\n",
    "y_pred = torch.from_numpy( np.array( [ [0, .2, .8], [0, 0, 1] ,[0.9, 0., 0.1] ] ) )\n",
    "\n",
    "y_onehot      = torch.from_numpy( np.array( [ [0,0,1], [0,0,1] ,[0,0,1] ] ) )\n",
    "y      = torch.from_numpy( np.array( [2,2,2] ) )\n",
    "\n",
    "#mixup_cross_entropy_loss()\n",
    "y_pred\n",
    "\n",
    "print( torch.nn.functional.cross_entropy(y_pred, y) )\n",
    "print( mixup_cross_entropy_loss(y_pred, y_onehot) )"
   ]
  },
  {
   "cell_type": "code",
   "execution_count": null,
   "metadata": {},
   "outputs": [],
   "source": [
    "print(y)"
   ]
  },
  {
   "cell_type": "code",
   "execution_count": null,
   "metadata": {},
   "outputs": [],
   "source": [
    "y_onehot_2 = torch.from_numpy( np.array( [ [0, .2, .8], [0,0,1] ,[0.9, 0, 0.1] ] ) )\n",
    "\n",
    "### perfect pred\n",
    "print( mixup_cross_entropy_loss(y_pred, y_onehot_2) )"
   ]
  },
  {
   "cell_type": "code",
   "execution_count": null,
   "metadata": {},
   "outputs": [],
   "source": [
    "### bad pred 1\n",
    "y_pred_2 = torch.from_numpy( np.array( [ [.9, .1, .0], [0, 0.5, 0.5] ,[0.1, 0.4, 0.5] ] ) )\n",
    "\n",
    "print( mixup_cross_entropy_loss(y_pred_2, y_onehot_2) )\n"
   ]
  },
  {
   "cell_type": "code",
   "execution_count": null,
   "metadata": {},
   "outputs": [],
   "source": [
    "### bad pred 3\n",
    "y_pred_3 = torch.from_numpy( np.array( [ [1./3, 1./3, 1./3], [1./3, 1./3, 1./3] ,[1./3, 1./3, 1./3] ] ) )\n",
    "\n",
    "print( mixup_cross_entropy_loss(y_pred_3, y_onehot_2) )\n"
   ]
  },
  {
   "cell_type": "code",
   "execution_count": null,
   "metadata": {},
   "outputs": [],
   "source": [
    "y_pred = y_pred_3.to('cuda:0')\n",
    "\n",
    "y_pred"
   ]
  },
  {
   "cell_type": "code",
   "execution_count": null,
   "metadata": {},
   "outputs": [],
   "source": []
  }
 ],
 "metadata": {
  "kernelspec": {
   "display_name": "Python 3",
   "language": "python",
   "name": "python3"
  },
  "language_info": {
   "codemirror_mode": {
    "name": "ipython",
    "version": 3
   },
   "file_extension": ".py",
   "mimetype": "text/x-python",
   "name": "python",
   "nbconvert_exporter": "python",
   "pygments_lexer": "ipython3",
   "version": "3.7.4"
  }
 },
 "nbformat": 4,
 "nbformat_minor": 4
}
